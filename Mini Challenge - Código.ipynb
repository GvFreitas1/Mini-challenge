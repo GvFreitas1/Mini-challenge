import pandas as pd
import random

df = pd.read_excel("Mini challenge - Semana 1.xlsx")  # Lê o arquivo .xlsx

n = len(df["Nome"])

indices = list(range(n))
random.shuffle(indices)  # Embaralha os indices

restritos = []
bixos = []
for i in indices:  # Separa os nomes restritos e os bixos em listas separadas
    if df["Restrição"][i] == 1:
        restritos.append(df["Nome"][i])
    else:
        bixos.append(df["Nome"][i])

grupo1 = [restritos[0]]  # Pegamos 1 restrito para cada lista, e uma fatia dos dos bixos
grupo1.extend(bixos[:4])

grupo2 = [restritos[1]]
grupo2.extend(bixos[4:8])

grupo3 = [restritos[2]]
grupo3.extend(bixos[8:12])
          
grupo4 = [restritos[3]]
grupo4.extend(bixos[12:])

print(grupo1, grupo2, grupo3, grupo4, sep="\n")
